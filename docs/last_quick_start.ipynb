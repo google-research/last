{
  "cells": [
    {
      "cell_type": "markdown",
      "metadata": {
        "id": "nCo8vI6Nd8yb"
      },
      "source": [
        "# LAST Quick Start\n",
        "\n",
        "## Target audience\n",
        "\n",
        "This is a quick start guide for [LAST, the LAttice-based Speech Transducer library](https://github.com/google-research/last).\n",
        "LAST is a JAX library, thus some knowledge about JAX and related libraries is always useful but is not required for understanding the core content of this notebook.\n",
        "\n",
        "We strive to make this notebook as accessible as possible, so don't hesitate to [ask questions](https://github.com/google-research/last/issues/new) if there is anything that you don't understand!\n",
        "\n",
        "## Outline\n",
        "\n",
        "We will cover the following,\n",
        "*   Installing LAST from `pip`\n",
        "*   Building a simple speech recognition model using LAST\n",
        "*   Training and evaluating our model using the [spoken digit](https://github.com/Jakobovski/free-spoken-digit-dataset) dataset"
      ]
    },
    {
      "cell_type": "markdown",
      "metadata": {
        "id": "zqSaobKNeQ7B"
      },
      "source": [
        "## Installing LAST\n",
        "\n",
        "*   LAST can be installed with the command `pip install last-asr`.\n",
        "*   If you are using GPU, first install the GPU-enabled version of JAX following the instructions [here](https://github.com/jax-ml/jax?tab=readme-ov-file#instructions). The version installed by pip by default may not have support for GPU."
      ]
    },
    {
      "cell_type": "code",
      "execution_count": null,
      "metadata": {
        "id": "kIt0WVUj7hC9"
      },
      "outputs": [],
      "source": [
        "# For this notebook, we specifiy a version for stability. For actual\n",
        "# installations, we recommend always using the latest version.\n",
        "!pip install --quiet last-asr==0.0.4"
      ]
    },
    {
      "cell_type": "markdown",
      "metadata": {
        "id": "wdXPxdmOeTIJ"
      },
      "source": [
        "## The JAX Ecosystem\n",
        "\n",
        "Unlike TensorFlow or PyTorch, JAX does not aim to be a complete machine learning package. Common tasks in machine learning are often performed with other libraries in the ecosystem. Here's a list of what we will use in this notebook:\n",
        "*   [Flax](https://flax-linen.readthedocs.io/en/latest/) provides basic building blocks of neural network models, akin to `tf.keras` or `torch.nn`.\n",
        "*   [Optax](https://optax.readthedocs.io) provides optimizer implementations.\n",
        "*   We are also using [TensorFlow Datasets](https://www.tensorflow.org/datasets) to load data. However, TensorFlow is only used for data preprocessing. In principle, any dataset frameworks that can return examples as NumPy arrays will work well with JAX."
      ]
    },
    {
      "cell_type": "code",
      "execution_count": null,
      "metadata": {
        "id": "R_covtY57mZa"
      },
      "outputs": [],
      "source": [
        "# pydub is also installed so that we can use the spoken digit dataset.\n",
        "!pip install --quiet flax matplotlib optax pydub tensorflow tensorflow-datasets"
      ]
    },
    {
      "cell_type": "code",
      "execution_count": null,
      "metadata": {
        "id": "n_JBwg6ojWzj"
      },
      "outputs": [],
      "source": [
        "import functools\n",
        "import pprint\n",
        "\n",
        "import flax.linen as nn\n",
        "import jax\n",
        "import jax.numpy as jnp\n",
        "import last\n",
        "import matplotlib.pyplot as plt\n",
        "import optax\n",
        "import tensorflow as tf\n",
        "# Disallow TensorFlow from using GPU so that it won't interfere with JAX.\n",
        "tf.config.set_visible_devices([], 'GPU')\n",
        "import tensorflow_datasets as tfds\n",
        "\n",
        "from IPython import display\n",
        "\n",
        "if not jax.devices('gpu'):\n",
        "  raise RuntimeError('We recommend using a GPU to run this notebook')"
      ]
    },
    {
      "cell_type": "markdown",
      "metadata": {
        "id": "jSGMseXKd8SK"
      },
      "source": [
        "## Example Task: Spoken Digit Classification\n",
        "\n",
        "The [spoken digit](https://github.com/Jakobovski/free-spoken-digit-dataset) dataset consists of short audio clips of spoken English digits.\n",
        "\n",
        "The audio is preprocessed into log-Mel-spectrograms following the standard practice in speech recognition.\n",
        "\n",
        "While there are only 10 possible classes for this task, to mimic an actual speech recognition task, we train the model to spell out the letters of each number.\n",
        "\n",
        "Below are some examples of the audio clips and their spectrograms.\n",
        "The actual data preprocessing code in TensorFlow is not central to understanding the rest of the notebook and can be safely skipped when reading."
      ]
    },
    {
      "cell_type": "code",
      "execution_count": null,
      "metadata": {
        "colab": {
          "base_uri": "https://localhost:8080/",
          "height": 699
        },
        "id": "QwgoAvljtK3s",
        "outputId": "1326b065-b7cb-4ca5-f44d-f95e8699cab1"
      },
      "outputs": [
        {
          "name": "stdout",
          "output_type": "stream",
          "text": [
            "two\n"
          ]
        },
        {
          "data": {
            "text/html": [
              "\n",
              "                <audio  controls=\"controls\" >\n",
              "                    <source src=\"data:audio/wav;base64,UklGRg4MAABXQVZFZm10IBAAAAABAAEAQB8AAIA+AAACABAAZGF0YeoLAAAAAAAAVvUAAFb1AABW9QAAAAAAAAAAAAAAAAAAAABW9Vb1VvVW9Vb1VvUB4Kvqq+qr6qvqAeBW9avqVvVW9QAAVvUAAAAAVvUAAKoKAACqCgAAqgqqCqoKqgqqCqoKVRWqClUVqgpVFQAAqgpW9Vb1VvUB4AHgrMpW1QHArMoBwKzKrMpW1VbVAeCr6lb1q+oAAFb1AABW9QAAVvVW9avqVvWr6lb1VvUAAFb1qgqqClUV/x+qKqoqqipUNaoqVDX/H6oqVRVVFVb1VvVW1VbVAcABwFa1AaCsqla1rKoBwKzKAeCr6gAAAABVFVUV/x//H1UVqgpW9Vb1AeAB4KzKVtUBwFbVVtVW1Vb1VvVVFVUVqipUNf8//z+qSlRV/z+qSlQ1VDWqKv8fAABW9QHgrMpWtQGgAaBXlVeVV5Wsqla1rMoB4KvqAABVFf8fqiqqKqoqqipVFaoKVvWr6lbVrMqsyla1AcABwKzKAeCr6lb1VRVVFVQ1VDWqSlRVVFVUVVRVqkqqSv8/qir/HwAAVvWsygHAAaABoKyKV5WsiqyKAaABoAHAVtUB4AAAqgr/H6oq/z9UNf8/qir/H6oKVvWr6lbVAcABwKyqVrWsqgHAAcAB4Fb1AABVFf8f/z//P1RVVFX/X/9fVFVUVapKVDVUNVUVAACr6gHAVrUBoFeVAYCsigGAV5UBoAGgrMpW1Vb1AAD/H/8f/z9UNapKVDVUNf8fAABW9VbVVtUBwKyqrKqsqgGgVrUBwKzKq+pW9QAA/x+qKqpKVFVUVf9f/1//X1RV/1+qSlQ1qiqqClb1VtUBwAGgV5VXlQGAAYCsiqyKAaCsqqzKVtVW9aoK/x+qKv8/VDX/P1Q1qir/H6oKq+oB4AHAAcCsqqyqAaBWtVa1rMpW1avqVvWqCqoqVDWqSqpK/1+paqlq/1//X6pKqkr/P6oqVRVW9azKAcABoAGgV5UBgAGAAYCsigGgrKqsylbVAACqCv8fqir/P6pKVDX/P1Q1VRWqCqvqAeCsyla1VrUBoKyqrKoBwAHAVtWr6lb1VRX/H/8//z9UVf9fVFX/X1RV/1+qSqpKVDWqKqoKVvUB4KzKVrVXlVeVAYCsiqyKV5UBoFa1AcAB4Fb1AABVFf8fVDX/P1Q1/z//H/8fAABW9VbVVtWsyla1VrVWtayqAcCsyqzKq+qr6qoKVRVUNf8/qkpUVVRV/19UVVRVqkqqSlQ1VDVVFaoKq+pW1QHArKoBoAGgrIpXlayKAaCsqqyqrMpW1Vb1AABVFf8f/x9UNVQ1qiqqKqoKqgqr6qvqrMqsyqzKVrUBwAHAVrWsyqzKq+pW9QAAVRX/H1Q1VDWqSv8/VFX/P6pK/z+qSlQ1VDX/H1UVVvWr6lbVAcABwFa1rKpXlQGgV5VXlayqVrWsygHgVvUAAFUV/x+qKqoqqir/H/8fVRUAAAAAAeAB4FbVrMqsygHAAcCsygHAVtVW1Vb1AACqCv8f/x9UNVQ1qkr/P6pKqkqqSv8//z+qKqoqVRWqCgAAAeAB4AHAAcCsqqyqrKoBoAGgAaBWtVa1rMoB4KvqAAAAAFUVVRWqKv8fqipVFf8fqgqqClb1q+oB4FbVVtVW1azKAcCsyqzKAeCr6lb1AACqCv8f/x+qKqoq/z//P1Q1qkr/P/8//z+qKlQ1/x9VFVb1q+pW1azKVrWsqqyqV5UBoFeVAaABoAHAAcAB4KvqAACqClUVqir/H1Q1qiqqKv8f/x9VFQAAVvWr6lbVrMoBwAHAVrUBwFa1rMqsygHgq+pW9VUV/x9UNVQ1VDWqSv8/VFVUVf8/qkpUNVQ1/x9VFVb1VvUB4KzKAcABoAGgAaABoAGgAaBWtQHAVtUB4Fb1qgqqCv8fqir/H1Q1qiqqKqoqVRVVFVb1VvVW1VbVAcABwFa1AcBWtQHArMpW1QHgq+pW9VUVVRWqKqoq/z9UNapKqkr/P6pKVDX/P1Q1qiqqKqoKqgpW9VbVrMpWtVa1rKoBoKyqAaCsqla1VrVW1VbVVvUAAFUVVRX/H/8fqir/H6oqVRVVFQAAAACr6gHgVtWsygHAAcABwAHAAcCsylbVAeCr6gAAVRVVFVQ1VDX/P/8/qkr/P6pKVDX/P6oqVDX/H/8fVRUAAAAAq+pW1VbVAcABwKyqVrWsqla1VrUBwAHAAeCr6qvqAAAAAFUVqgpVFaoKVRVVFQAAAABW9Vb1q+pW1VbVAcCsygHArMoBwFbVVtWr6lb1VvWqClUVqiqqKv8/VDX/P1Q1VDWqKqoqqipVFf8fqgpVFQAAqgoAAFb1VvUB4AHgVtWsyqzKAcCsyqzKAcCsyqzKAeAB4AHgVvWr6gAAAABW9QAAVvUAAFb1VvWr6lb1q+oB4AHgAeBW1QHgVtUB4AHgq+qr6gAAAAAAAFUV/x//H6oq/x+qKqoqqir/H/8f/x+qClUVAACqCqoKAACqCqoKAAAAAKvqVvUB4AHgVtVW1VbVrMpW1azKVtWsylbVVtUB4FbVq+qr6qvqq+pW9avqAAAAAFb1AAAAAFb1VvWr6lb1VvWr6lb1q+pW9avqAABW9QAAAABVFaoK/x//H/8f/x9VFVUVqgpVFaoKqgoAAKoKAACqCgAAqgpVFQAAqgpW9Vb1q+qr6lbVAeCsyqzKAcABwAHAVrWsygHAVtWsygHgAeBW9avqAABW9aoKqgqqClUVqgqqCgAAAABW9Vb1q+pW9Vb1VvVW9Vb1VvVW9QAAqgoAAFUVqgr/H/8fqgpVFaoKVRWqClUVqgqqCgAAqgoAAKoKqgoAAKoKAAAAAFb1q+qr6lbVVtVW1azKrMoBwKzKAcCsyqzKrMoB4AHgVvVW9Vb1AAAAAKoKVRVVFaoKqgoAAAAAVvVW9avqVvVW9avqVvWr6lb1q+pW9QAAAAAAAFUVqgpVFaoKVRWqClUVVRUAAKoKAAAAAFb1AAAAAAAAVvUAAFb1AABW9QAAVvVW9avqq+pW1QHgVtWsylbVAcCsygHAVtVW1QHgVtWr6qvqAABW9aoKqgoAAFUVqgqqCgAAqgpW9QAAq+pW9avqVvWr6lb1VvWr6gAAAAAAAKoKAACqClUVVRUAAKoKAACqCgAAAAAAAFb1AAAAAFb1AABW9QAAAABW9QAAVvUAAFb1q+qr6gHgAeBW1VbVrMqsylbVrMpW1QHgAeCr6qvqq+oAAFb1qgoAAKoKAACqCqoKAAAAAAAAVvVW9avqq+oB4Kvqq+pW9avqAAAAAAAAqgoAAFUVVRWqClUVqgqqCqoKAACqClb1AABW9QAAAABW9QAAVvUAAAAAVvUAAAAAVvVW9avqq+oB4KvqVtUB4FbVAeBW1QHgVtUB4KvqAeBW9Vb1AAAAAKoKAACqClb1AABW9Vb1q+pW9avqq+qr6qvqAeBW9avqAABW9QAAAACqCgAAVRWqClUVqgpVFQAAqgoAAKoKAAAAAFb1AABW9QAAAABW9QAAVvUAAFb1AAAAAFb1VvWr6lb1AeCr6qvqAeBW1QHgVtUB4FbVq+qr6qvqVvVW9avqAABW9QAAAABW9QAAVvWr6lb1q+pW9avqVvVW9avqAAAAAFb1qgoAAKoKAABVFaoKVRVVFQAAqgqqCqoKAABW9QAAVvUAAAAAq+pW9avqVvWr6lb1q+pW9Vb1VvVW9avqVvVW9QHgq+oB4KvqAeCr6qvqq+qr6qvqq+qr6lb1VvVW9avqVvWr6lb1q+pW9avqVvWr6lb1VvUAAFb1AABW9QAAAACqCgAAqgoAAKoKAACqCgAAqgqqCgAAAABW9QAAAAAAAFb1VvWr6lb1VvWr6lb1q+pW9avqVvVW9Vb1q+pW9avqVvWr6lb1q+qr6gHgq+qr6gHgq+oB4Kvqq+oB4Fb1q+pW9avqVvVW9Vb1AABW9QAAVvUAAAAAVvUAAFb1AACqCgAAqgoAAKoKqgoAAKoKAACqCgAAqgoAAFb1AABW9QAAVvWr6lb1VvWr6lb1q+pW9Vb1q+pW9Vb1q+pW9avqVvVW9avqVvVW9avqVvWr6qvqq+oB4KvqAeBW9avqVvWr6g==\" type=\"audio/wav\" />\n",
              "                    Your browser does not support the audio element.\n",
              "                </audio>\n",
              "              "
            ],
            "text/plain": [
              "<IPython.lib.display.Audio object>"
            ]
          },
          "metadata": {},
          "output_type": "display_data"
        },
        {
          "name": "stdout",
          "output_type": "stream",
          "text": [
            "one\n"
          ]
        },
        {
          "data": {
            "text/html": [
              "\n",
              "                <audio  controls=\"controls\" >\n",
              "                    <source src=\"data:audio/wav;base64,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\" type=\"audio/wav\" />\n",
              "                    Your browser does not support the audio element.\n",
              "                </audio>\n",
              "              "
            ],
            "text/plain": [
              "<IPython.lib.display.Audio object>"
            ]
          },
          "metadata": {},
          "output_type": "display_data"
        },
        {
          "name": "stdout",
          "output_type": "stream",
          "text": [
            "nine\n"
          ]
        },
        {
          "data": {
            "text/html": [
              "\n",
              "                <audio  controls=\"controls\" >\n",
              "                    <source src=\"data:audio/wav;base64,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\" type=\"audio/wav\" />\n",
              "                    Your browser does not support the audio element.\n",
              "                </audio>\n",
              "              "
            ],
            "text/plain": [
              "<IPython.lib.display.Audio object>"
            ]
          },
          "metadata": {},
          "output_type": "display_data"
        },
        {
          "name": "stdout",
          "output_type": "stream",
          "text": [
            "nine\n"
          ]
        },
        {
          "data": {
            "text/html": [
              "\n",
              "                <audio  controls=\"controls\" >\n",
              "                    <source src=\"data:audio/wav;base64,UklGRmQaAABXQVZFZm10IBAAAAABAAEAQB8AAIA+AAACABAAZGF0YUAaAAAAAB8A0v/h/+H/o//x/6P/hP+j/4T/Rv9G/zf/CP8n/9r+yv75/tr++f4I/xj/GP8n/6P/Vv/S/+H/8f9NAC4AugCLAAcB+AAHAUUB+ABlAUUBRQFlASYBVQHoADYByQD4ANkAfACLAE0ATQAuAB8ATQAPAE0AAAAfAPH/4f+U/2X/yv4v/uH9Nv0X/en8q/x8/Mr8yvw2/ZT9EP5t/jf/Zf8+AIsAdAGEAQ8CTQJNAsoCugKqAukCiwLZAnwCiwJNAgACAAIXATYBXQBNANL/hP+E/+n+hP/5/oT/df+z/x8ALgBdAOH/L/6b/uH9Nv1W/aP9bfzK/Fb9+Pyj/cr+fP7p/mX/lP8fACYBZQFVAaMBRQEHAdkAmwB8AIsAfABsALoA2QDoAFUBmwCbAF0A8f/x/7P/wv9W/4T/Rv9G/7P/o//h/z4AiwDJADYBowGjAV0CHwJ8AmwCmwKqApsCTQLCAWwAN//p/tL9Vv34/D78S+T+5ZnkauRb6qns5+z/8bn0B/fh/T4C8APKBmUH2QZ1B9IHswc+CLsI4QekCU4KNwtHC04KXggYBycFbAJNAhcBGP8Q/hf9fPzp/HX9Vv2r/j4AFwFlAwAGXghOCn0MZg2sDk8Q2xBHEU8QGAf5/hf9ovUW8ejwY+vH5N/nHeaw4/7pse3I7BbxbPS59NH7FwFGA5sGuwi6BjcHwgeMBi8I8QerBlYHnAicCMMJNwn5BuEFfAQ2AQAAo/9l/av8k/vC+dH5ZfvR+4T98f/h//ABFwVtBnUJhQtuDKwOIBDqENMRpRM4EygTOBG6Bqv+2fw29T3we+566KDhBeWR43HhROfA6aHpiu7J8i70+PouALoCCAfiCYwIygiUCbsIIAogCl4IqwiECQEKfQqUCR8IGAcXBZMBDwCb/h/8dPur+uj4B/kA+mz64fvh/RD+mwDZAqsELwi7CqQLEQ60D24QZhEREk8SjRLbEvkI8f+7/sn4e/IW8efqU+MN5u7lieL25orq/ukG74PzHvRd+hj/qgBVBdoIGAmUCXUJRgcYCZQJEAgfCE4IswecCIwIEAZdBi8EfABW/4z+H/yT+z76F/ll+Yz6+Ppd/LP9Pv7JACcDugQIB0YJbQrLDOoO6g5PENsQOBF2EZUTlRFuDvkGo/uj+fD3J/kO7Cval9Qr2IjeDeT14onkc+se9BgHZxPDC2UF2QB8/qMH8Qdd+ib1ZfubAIUNVxMBDvITphuWGcwY8QvC+Q/29/Lv7Q7wqewV61X32QBtBIwIfAajAxgJEAhlAwgFowXpCKUTChfUFzkbMRjMFq0aph1wIO40ywyCpLaVr5gft7oCufKY4HUJvBQSHvwoovFK2Mr6bPRV++EDsOdk98UhniBBIkkfFwG7Cp4ahAna/tjs7NdL6Eb7JvcA/nwANv1uDtoKB/Pn6g3kgucX/cIBAAC7CnYP2xJ3GTcN+ARWC4UNERTjGQkRjQz5Dl4KVgkvCMIB4QObBpT/Xf5W/3QFKRXVJyAO6K2HjSOalcilGQsdbf59DDAQMRi2JXz2K9p67Db36QSNEj74i/LKCiAMjRTyFRf7ovO6+tj00fOS7QTdLeofAigPQBj6EqoCFwGEAS74VfWL8lz0swdvFvoWfhQ/DHwEZQdOBrIDTgabBtIFlAm7CNIF8QkQDI0MbgwfBD4AiwI/CpUVrywUKEa6Z4UDjOiz8x2LPwIY2gi6AtH15B0QCGHbqOQk58HzWBv6EpP12QJ8+sIDnh6sDhf5CP8n+Tb7qwYW7Svecum69lcP7CSVFcIDAPzA7e/vyfiq9D78dQs/ELUZvRo3Cdr+s/2z/TcLxBVuENMNlAmjAS8ElAc2BekIGAsIB7MHjAbRAQAEVgtAEoAoaCPxvGCIh4vvqmAaskiAIvoSJvWv3yAOVg018w/2qOY05QEQEhjSB2YL9/RE76QRpRcJDawMbPR65h70/+/I6sn0JveLAmgdIhw3DegAz+cU40X3mwQgEFgZXg6kCTAOVgmEBZQFJ/3JAH0OGROtFBkRTQJs+l3+Rv98BoULhAVGA10C6AAXBQEMnRADHoAkWNJRkN2Q9ZtG/4tH/TDFI9r+E9nR+ZQLuvyj/xbxG9wv/AISZg13FxcB/ull/7sMXhB3Fx8CNOcG7/Dzdf1dAnnkt+I++n4UWjGIJ5T/M+GI2pLtjRCuJPMbIBDhA6P98QfxB7oAGP8AAoUNth/NHvEJk/c06aHtNgXjE8wW4g+E/Yv2svurBFcVOiVpKzzq3piOilGOgeNzPlw9zzCMBjrWgeU+AMIFfQza/hTfwOubAukKSR8gEJLzfPhW/7MJ6xpPEB72Hu7n6rnyAQzpArjmNe2p8CAMoDCHHR8AiupC2anudhWWHyIg+hZ0++H3qgBl//EJsw1OBjAOnRRWDV4I+f7/7//1qgBOBqUT2xCTA/n+L/w+BDEY/S7hA/CutpEBgLTGry6LQ01FrRbG1mDTqe6qAvMZzBRj6c/jBu/p/LYjhyF0BQf3ZPE2+6UV5BsnB8n2U+V55JsA8QcA/uH5mu5s+NMV6xqNED7+LOZ65vABdhXFI/Qf8AMe8lTx6frTD60cMBR1CXwCfPwPBMoIPgQnA7P/Vv0vBBAIGAerBLP/dAF+EpAqswuNwWKeV4EvuQoXgjqjTFEmBefc04ngg/dvGs0gfPzX6sfkyOytFnAi+hRlBYv0sfGUCVcX2xDZBqnst+A98AgD6QLg9Sb1Y+0oDQQkhhdmD0TvO96D8eEHMRzeKjEcjPwO8jzs2fbMFPsa4xeFERcB4fld/lX7o/tlATb9FwFeDAkLuwiMCuEDChV+FkHRF7Tll0OeuvphKJpBPTt8Ahvc3t0O6k4GSiVHD4v0Busz33X9WB0xHtsUugTI8Nn26Qo3DfkMJ/+g3QTZqOQ++kgbEyZAFvgEovP+6YP3CANOCLwQnAz5BtoKCAknB3UH6AAX/asEswnLEMQTwwnS/ej2VfXS/7sKpA2UBwj9k/Vd+B8IdxmvLAMgA9M0pDGMBaBd/kMydEZLNZv6xtiI3tjyvBBhJiAMDu5q5Mfg6AADIBoftBFt/qnwNvlXDzgRjAj/8b3TSdZM7rsMYSgbKY0QAPjf6c/pjPy7Co0MLwwfBNkC4gsJEX0QyggQ/Mn0Tv4/ChkVxBXKCE36g/OL9ukCww+FDy8IRv829zf/ARAjKH8cOtS5q/OJJaRd/u0s2UkVMi741da+2zXxzBYELIUN9/C/3WHZTQCmH58kSBmbAFvsi/ZHC6wQhQ1N8gvUE9db7DAOHCtRJuILNfOB4zTpZQE/DqwQwwsn/8r+IAq0EcwU2gxW/eH3BwGcCiEU0xG6Apv4ZPeE/doKdhEQDOEBm/gm9z4CvBSYKbYfh9bIpRKMz6B8/IEwNkagMMn4n9dp3oP1IRS2J7MLXO6Y4HHfNgH0H4chCROU/wfx+PqFD9MPRgfA7VjSadgt8DgRFCqnJSAKi/KR52vsFwEBCmUJLwYAAm0GhRG0FQEQjAZN+uH5mwbLEOsWtA+b/pLzsveLAmYPfhZHC238ufSD9fkGnhzOLG8WEssVoCqNZLIgCt4ysT6WHR3sG9g06aMDbxwLITb9ieQ74LjqbhBwJAobAAhk98n0LwYCFBgL8PnG3pfSU+UPAqYdxiW0FYT70O+i8S/8nAhtBtr+m/y6ABgN6xgaGQEOXQLo+Aj90geNDrQPCAfC+8L5hP/5CPoQ2g6zBQj9XfrCA34SWSMiHlnULKOfknql4QFLMcg3jyD+7d3X2OzCBfoUKRsQ/K/haujY8uIPpiEoEwD+yfjK/HUNYB7LEB/67uns1ZbKLeonBWgdPDWdFtr+D/Qk5T3wmwBNAOEHZxPTDY0QVxEfABD+0QEPAmYRfxxAFIwKTvyp6mz0qwZXEcUbnRL4Aqv+mwLaCgMglhuGyHGcG5H+poUPmTf2MTEYDeZ42B/6+hCsELQPwe+/3XT18AEoEzEaTgZ8+E4EMBB3FxoZi/gj3b7bzt0X924OVxEoD3UL8AHh/6MBD/bQ8U32m/woDQoZ8hM/DGUF8f83B8sOywwBDLMHygKzBZsECAMABLMFJwluDgkL0QFl+x/8qwhgGmgjgunXp7CeBqjY8q8oIh5mD2z0wOvxBXYVAAYf+lzusOVO/vkMJwezB078NvniDQIapRMYBw7wauAt6gfzyfjoAJsAwgd2E8wUdQs3/5LxJe82/R8GKAtuDF0GdQeFD6wSpA83C8IBZQG7CCgL8Qk3CegADwJOCDcHswl1CboERgfDEVcX6xob2kKWgaDwtJv85i3LDHX/F/nZ+sQXbhSL8jTne+50914Ouw4u9uH30v99CrYfKRsIA6r00O+S7//1B/Xf6zb1dQcoE1AaIBCr+lX1yfYu+roA0QE+AGUJfhKGE08SEAoXAZQFLwyzDbMNNwfoAAAEjAiECbsILwg3B8oKAQyMCqwOChvI7u6gQ6B0tETn7CI3Cw7wkwMIB8wWZxv+6ZDd4fcAACAK0gfI6tDx2xCOFl8YZxPp/Gz4LgK6+KHt9upq5uD18g92E7sOpAuEAdkAFwWy98HxD/oHAW4MZxNOCuEHrA75DigPVg0PBOEDEAqzCR8I+QYnA6sI2g4oC04I4Qd9DIYZGyX82VmPqae0wC74MRaC60TprRiWHzkbPggL2FPpKBGyA6L1TO5j5y8KUSQBEA8EygofCF4KjAb+57/dTPDo9D7+ZQc+AJwIWBmNDmUBjPo18T76AAhsAoT/ugazCcMRAhYYC7oGuw4/Di8MGAnC/4QBnAp9CIwI6QooC2YLCQ92D5YXdhM+uXKeCcTEzHT1B/dS32UFYSjTFV4M6frX6kYJnAxU7SzmRfOj/3YRGRN8/i8KxRsvChcB2fb+5dDxAPiC7cHzmwJGCSgTCRPwARcBugQ+/Iz8jP6y+xAGTw6MCpQNAhK7DrsOAQ75BoQFCAmUB8MJ8Qv5Bl0Gwws/CowKGRFmEbUdFem/nurFUM9o1t/t/Nvo9I8kjhZVAVYJmwCMBJwKc/HW4i764f0u+l4KVQXpCtQbLwr4/CcDdPkH8Yv0yOxU79kCbAKbBJUPIAqUBYQHXf42+4wE8AHh/x8I4QfKCl8SRw1WB5UPbhDDDbsKZQVWB4UNfQpOBH0KRw0fCLML6g4DHD4ATKl+w7fcCsiQ4dXa5+qPHrQV2fgJDesUCAdtCFX5Hebh/fH9a+7RAUYJJwlnE04MCP9tCsoEa+4188Hxiu66+pT9q/ycCsMNygL5BmUFVv3hA7IBs/1tBggJ8QcgDoUR0gu0D9MRLwo/DE4MLwazCZQLygY3CcMNPwpuDm4SXxap6KqxWt4D1T+/p97l2qL32xQf/rr6jhoxFgAAygoQ/NDxPv578orwwgV1CckApBF9DIsCCQ/S///x0flk82Pr0fcn+5P5GAerBpT/dQcXBdL9wgWEBT4AAAYnCW0GhQ3yD6sK2g7qEAEM0w0YD30KhQviDV4IswXaCl4KZgs/EE8U4O/Rts7fK9yEuELZ9d737iAKhP/h+cUb4xcI/30O0geD84T7RffY8gAC8QVO/oUNdhGqAAEKbQii9ej42faK7hf1svma9Aj/0gXZ/LIDRgeE//ADAAaEAboECAn4BE4KERD5CvINIRIJD+oOMBJODNoKhQ/xBz4Iww+EB3UJTxLqEjf/4sD02Pbmyrn7zzPhwOcA/AD8fPqNFNQXkwEwDiESH/iy9+n+fPjR+aMDqgAQCAkRygabBAEQFwHo8j78ovVc7sL3VffB9T4AjP5N+qsECAOr/JQF0geEAZQHjAqMBtoMdQ2cCCgPjRLTDSAQOBNPDtMNfQ6zCeIJIAqbBMIH8QtWDTYFEs2m1lTvu70azAXlgeN78rr86PYgDLwWAAJHDRIWbfzo9icDXfqy+U4ElP3RA6QNqwS6BF4OjATo+Aj/H/hr8HT36PbR8zb7Tfqy+aMBs/+E/YwGjAYAAtIHVgkYCSgNywzDCXYPERCkDTAQ0w8JDYUN0gvSCaQLnAh8BvkGPgYYCTcJZg1L4hrOZPPrzdPI3uHW4OfsEPyS8fAB1BfwA5sGdxeMBE36RgP4/LL70QNt/KoAhQtdAj4ErAxGBaoAZf+r+sL3hPls9pv2uvpk96L3CP3p/OH9dAE+Am0EugYACBAKZg2FCygLsw0RDrsMVw84D/kOAQ4YCxAM0guzB1YHpAnhBycDDwSrBMoG0QGX2HnkivDzzPXaFeVT53vy8PUl7wgJfQov/LsKTxC7/h8AHwJ1/04EXQKj+10GowcI//ADlAfRA2wACP8n/Qj/df1N+KP58fuD95P3uvqr+pv8u/6bAPgEqwicCKsKLww/ChgJygjxB8IH8QdWBz4IbQi7CEYJIAo3CXUHAAbhAx8CdAFlAeEBugK6Ak0Co/nh9/j24PPY8lzwB/MW78Hva/BM8KryJvd09XPzH/hG+XT7PgBdAtEBygSMBOEDVQU2BdEDTgSMBMoCfATKBB8EfAQXA5sAJgFlAZv+CP+z/07+J/+z//H/bADKAqMB+AKjBaMF6Qa7CEYJhAltCpQJuwiUCbsIEAhOCGUH4QWEBRcFPgROBPADRgOTA+H70fXo9Cbxc+1E7UTtoecG69Dra+o170309/LJ9F34o/nh/YQDmwR0BTcJqwjxB14IXgiMBrMHRgXZBBgH+QarBOkE4QPCAUUBs/8f/k7+Pv6E+4T90v3K/vn+NgGjAVUDFwX4BIwGlAcACB8Iwwl1CRgJpAnxCU4IEAgnB6MFTgTKAsIBRQEXAYsADwB8ANr+ZPcX9XPzqfCh7UTvqey46kzu3+2a7ujyXPbo9Nn4Rvuj/ckARgXZBIwGbQiEB30IEAirBmUHlAfSBZQFowcvBlUFwgXpAgACLgJl/+H9m/6M/un8J//p/kb/+ADCAeEB0QP4BDYFCAfSB+EHPgiMCBAI4QcfCLoGNgVdBOkCkwGyAZsA8f8uAIz+bf7p/hD+o/0A+oP14POa8rnwqfDo8ETv6PDJ8j3yovWb+LL34fkn/dL9RQHKBJQFEAarCCcH+Qb5BmUFwgUABg8ELwQABqsEygTpBMIDygKqAskAhP8+AD4AJ/9NAJsATQAAAmwCDwI2Az4E0QMIBWUFhAVdBukG+AQ2BYwECAOqAsIBbAA3/yf/wv3h/eH9Rv34/Lr8q/zx+0b9F/1W/YT7APon+Yv4Lvii9+H3ove6+F34Xfr4+pP7Xfy6/KP9u/7S/6oAbAJdAvgC+AJOBLIDAAQnBW0EdAUABuEFbQbCB8oGqwbpBi8GFwWEBR8EqwRdBCcDqgKbAtEB+AAHASf/s/8PAOn+m/58/nX94f3S/Ub9Rv11/cL9s/0n/5v++f4Y//n+u/6j/+H/o/8+AOgAmwCqAJT/CP/p/pT9o/26/JP7J/v4+g/6F/nC+Zv4F/mE+fj4J/lV+z78bfza/pT/TQCbApMDygRtBkYHdQcQCFYJCAlOCtIJNwlWCR8I+QZ0BW0E2QKTAWwAVv98/tL9fPzR+wj7jPof+i76APp8+pv6EPx8/Nn8lP3a/oz+wv/ZAE0AowHwAQcBdAFNAgcBZQHwAboAPgAHAcL/AABNACf/Vv/p/tL9uvw2/QD8o/uT+7r6+PqT+yf78fvZ/LP9Pv4Y/9L/TQAuAosC2QIABD4ETgTCBeEFlAXhBYQFRgVlBVUFNgUfBPADqgKLApMBiwB1/wAAu/4+/qP96fyb/Hz8q/zR+wD80fvx+7r8L/z4/IT9hP11/en+Vv+j/7oAPgAfADYBhAHRAZsCmwLhAYQBhAF0AYQBJgHJAIsAPgDC//n+Rv/p/mX9s/1G/Sf9F/3x/dn80v11/Zv+8f3p/gj/Zf9sAPgAsgFsAsoCqgLKAicDVQPCA1UD6QKEA4sCbAIfAiYBNgGTAdkAXQAuAKP/o/+U//n+Tv4A/pv+lP0+/tL90v1t/i/+Vv0Q/hj/Pv7a/vH/o/8uAIsA4f8HAXQBBwG6ADYBugCbAGUBmwDx/x8ALgAAAC4AXQDS/wAALgCE/w8A8f8uAFb/s/9G/0b/fP6r/m3+wv0A/vH9Xf6b/nz+lP+z/8L/TQBNAMkAiwD4AF0AVQHCAbIB4QGjAWUBhAEAAnQBHwLhAZMBdAF0AT4ABwE+AGX/yv7a/k7+H/4f/uH9df0Q/l3+4f27/rv+yv7S/2X/hP8fAOH/wv8XASYBugDhAcIBVQEHAeEBdAHRAVUB6ACLAMkALgDJANkAmwAn/6P/yv5d/jf/Tv5t/k7+bf6M/tr+jP5O/if/2v51/4T/4f9dAAcByQCqAE0AmwDZAGUBsgHRAVUBdAFVAaoATQD4AE0AXQAfAPH/o/9sAPH/lP9W/5T/Zf+U/0b/df+U/2wAAADS//H/Rv8+AFb/0v8AANkAyQDoAD4AbADoAMkAfAB8AOH/0v8PAHX/wv/S/4T/bf43/1b/q/5W/1b/Vv9l//n+6f43/w8A0v8uAF0AHwBdAPH/XQBdAEUBbAC6AJsA+ABlAYsA+ACEAckAXQDh//H/o//x/00AVv8uAJT/q/7a/sr+q/6r/oT/Vv8AAGwA2QCqACYBNgHoAHQBdAFsAJsATQAPAIT/DwAn/4T/lP8Y/0b/GP8+/qv+J/83/1b/J//p/lb/wv8fAF0AmwCqAOgAJgFFAaMBhAHCAWUBkwF0ASYBNgFdAB8AbAAAAAAAGP/5/un+fP4+/h/+s/0v/oT9s/3C/av+J/9G/7P/wv8+AF0AFwGTAfABfAKLAosCqgLpAuEBfAImAfgAugAAAHX/df/S/3z+H/4A/kb9hP1W/YT9Rv0Q/j7+Rv+U/00AfAAuAGwAqgAHAXQBwgFVAfABDwIuAtEBAAK6AGwAHwCj/8L/4f+E/5T/lP8Y/3X/+f7p/tr+m/7K/lb/Rv/h/10AugCLAHwAqgAuANkAXQCqAD4AbADS/wAAHwA=\" type=\"audio/wav\" />\n",
              "                    Your browser does not support the audio element.\n",
              "                </audio>\n",
              "              "
            ],
            "text/plain": [
              "<IPython.lib.display.Audio object>"
            ]
          },
          "metadata": {},
          "output_type": "display_data"
        },
        {
          "data": {
            "image/png": "[encoded data removed]",
            "text/plain": [
              "<Figure size 800x400 with 4 Axes>"
            ]
          },
          "metadata": {},
          "output_type": "display_data"
        }
      ],
      "source": [
        "# @title Data preprocessing code {display-mode: \"form\"}\n",
        "\n",
        "\n",
        "def audio_frontend(\n",
        "    audio: tf.Tensor, frame_length: int, frame_step: int, num_mel_bins: int\n",
        ") -> tuple[tf.Tensor, tf.Tensor]:\n",
        "  \"\"\"Frontend for extracting features from audio.\n",
        "\n",
        "  Args:\n",
        "    audio: [num_samples] waveform.\n",
        "    frame_length: The STFT window length. See frame_length in tf.signal.stft()\n",
        "      for more details.\n",
        "    frame_step: The STFT window step. See frame_step in tf.signal.stft() for\n",
        "      more details.\n",
        "    num_mel_bins: Number of bins to produce for the log-Mel-spectrogram. See\n",
        "      num_mel_bins in tf.signal.linear_to_mel_weight_matrix() for more details.\n",
        "\n",
        "  Returns:\n",
        "    (log_mel, num_frames) tuple:\n",
        "    -   log_mel: [num_frames, num_mel_bins] float32 log-Mel-spectrograms.\n",
        "    -   num_frames: [] int32 length of the spectrograms.\n",
        "  \"\"\"\n",
        "  spectrogram = tf.cast(\n",
        "      tf.abs(tf.signal.stft(audio / 32768, frame_length, frame_step)),\n",
        "      tf.float32,\n",
        "  )\n",
        "  num_frames = tf.cast(tf.shape(spectrogram)[0], tf.int32)\n",
        "  mel = spectrogram @ tf.signal.linear_to_mel_weight_matrix(\n",
        "      num_mel_bins=num_mel_bins, num_spectrogram_bins=spectrogram.shape[-1]\n",
        "  )\n",
        "  log_mel = tf.maximum(-10.0, tf.math.log(mel))\n",
        "  return log_mel, num_frames\n",
        "\n",
        "\n",
        "def make_text_labels(int_label: tf.Tensor) -> tuple[tf.Tensor, tf.Tensor]:\n",
        "  \"\"\"Converts class labels into text.\n",
        "\n",
        "  Args:\n",
        "    int_label: [] int64 class label.\n",
        "\n",
        "  Returns:\n",
        "    (labels, num_labels) tuple:\n",
        "    -   labels: [num_labels] int32 output labels, in the range of [1, 26],\n",
        "    corresponding to letters \"a\" to \"z\".\n",
        "    -   num_labels: [] int32 length of the output labels.\n",
        "  \"\"\"\n",
        "  vocab = tf.constant([\n",
        "      'zero',\n",
        "      'one',\n",
        "      'two',\n",
        "      'three',\n",
        "      'four',\n",
        "      'five',\n",
        "      'six',\n",
        "      'seven',\n",
        "      'eight',\n",
        "      'nine',\n",
        "  ])\n",
        "  labels = tf.cast(\n",
        "      tf.strings.unicode_decode(vocab[int_label], 'ascii') - ord('a') + 1,\n",
        "      tf.int32,\n",
        "  )\n",
        "  num_labels = tf.cast(tf.shape(labels)[0], tf.int32)\n",
        "  return labels, num_labels\n",
        "\n",
        "\n",
        "def preprocess_example(example: dict[str, tf.Tensor]) -> dict[str, tf.Tensor]:\n",
        "  log_mel, num_frames = audio_frontend(\n",
        "      audio=example['audio'], frame_length=512, frame_step=160, num_mel_bins=80\n",
        "  )\n",
        "  labels, num_labels = make_text_labels(example['label'])\n",
        "  return dict(\n",
        "      log_mel=log_mel,\n",
        "      num_frames=num_frames,\n",
        "      labels=labels,\n",
        "      num_labels=num_labels,\n",
        "  )\n",
        "\n",
        "\n",
        "def preprocess(\n",
        "    dataset: tf.data.Dataset,\n",
        "    is_train: bool = False,\n",
        "    batch_size: int = 128,\n",
        "    max_num_frames: int = 30,\n",
        "    max_num_labels: int = 5,\n",
        ") -> tf.data.Dataset:\n",
        "  \"\"\"Applies data preprocessing for training and evaluation.\"\"\"\n",
        "  # Preprocess individual examples.\n",
        "  dataset = dataset.map(preprocess_example, num_parallel_calls=tf.data.AUTOTUNE)\n",
        "  # Skip long examples to save time since this is an example notebook.\n",
        "  dataset = dataset.filter(\n",
        "      lambda example: example['num_frames'] <= max_num_frames\n",
        "  )\n",
        "  # Shuffle and repeat data for training.\n",
        "  if is_train:\n",
        "    dataset = dataset.shuffle(buffer_size=1000).repeat()\n",
        "  # Pad and batch examples.\n",
        "  dataset = dataset.padded_batch(\n",
        "      batch_size,\n",
        "      {\n",
        "          'log_mel': [max_num_frames, None],\n",
        "          'num_frames': [],\n",
        "          'labels': [max_num_labels],\n",
        "          'num_labels': [],\n",
        "      },\n",
        "  )\n",
        "  return dataset\n",
        "\n",
        "\n",
        "ALL_DATA = tfds.load('spoken_digit', split='train')\n",
        "\n",
        "\n",
        "def display_examples(n: int = 4) -> None:\n",
        "  # Draw log-mel-spectrograms.\n",
        "  batch = next(\n",
        "      ALL_DATA.map(preprocess_example).padded_batch(n).as_numpy_iterator()\n",
        "  )\n",
        "  texts = []\n",
        "  log_mels = []\n",
        "  for i in range(len(batch['num_frames'])):\n",
        "    texts.append(\n",
        "        ''.join(\n",
        "            [\n",
        "                chr(ord('a') - 1 + y)\n",
        "                for y in batch['labels'][i, : batch['num_labels'][i]]\n",
        "            ]\n",
        "        )\n",
        "    )\n",
        "    log_mels.append(batch['log_mel'][i, : batch['num_frames'][i]])\n",
        "  plt.figure(figsize=(len(texts) * 2, 4))\n",
        "  for i, (text, log_mel) in enumerate(zip(texts, log_mels)):\n",
        "    plt.subplot(1, len(texts), i + 1)\n",
        "    plt.imshow(log_mel.T, origin='lower')\n",
        "    plt.title(text)\n",
        "  # Display audio.\n",
        "  waveforms = ALL_DATA.map(lambda x: x['audio']).as_numpy_iterator()\n",
        "  for text in texts:\n",
        "    print(text)\n",
        "    display.display(display.Audio(next(waveforms), rate=8000))\n",
        "\n",
        "\n",
        "display_examples()"
      ]
    },
    {
      "cell_type": "markdown",
      "metadata": {
        "id": "yq-gYajMzc8J"
      },
      "source": [
        "We will evaluate on a single batch from the first 1000 examples (980 actual examples after discarding examples that are too long), and train on the rest of the data.\n",
        "\n",
        "From now on, we will no longer be using TensorFlow. The batches for training and evaluation are simply dicts of NumPy arrays with the following entries,\n",
        "*   `log_mel`: `[batch_size, max_num_frames, 80]` float32 padded log-Mel-spectrograms.\n",
        "*   `num_frames`: `[batch_size]` int32 length of the spectrograms.\n",
        "*   `labels`: `[batch_size, max_num_labels]` int32 padded reference output labels in the range of [1, 26], corresponding to letters \"a\" to \"z\".\n",
        "*   `num_labels`: `[batch_size]` int32 length of the reference outputs."
      ]
    },
    {
      "cell_type": "code",
      "execution_count": null,
      "metadata": {
        "colab": {
          "base_uri": "https://localhost:8080/"
        },
        "id": "ErRgloMMzYub",
        "outputId": "bb2a0b2f-e2f0-433d-e8be-50243d92f819"
      },
      "outputs": [
        {
          "name": "stdout",
          "output_type": "stream",
          "text": [
            "TEST_BATCH shape and dtype\n",
            "{'labels': ((980, 5), dtype('int32')),\n",
            " 'log_mel': ((980, 30, 80), dtype('float32')),\n",
            " 'num_frames': ((980,), dtype('int32')),\n",
            " 'num_labels': ((980,), dtype('int32'))}\n"
          ]
        }
      ],
      "source": [
        "# How many examples to take for creating the test batch.\n",
        "TEST_BATCH_SPLIT = 1000\n",
        "# A single test batch.\n",
        "TEST_BATCH = next(\n",
        "    ALL_DATA.take(TEST_BATCH_SPLIT)\n",
        "    .apply(functools.partial(preprocess, batch_size=TEST_BATCH_SPLIT))\n",
        "    .as_numpy_iterator()\n",
        ")\n",
        "# An iterator of training batches.\n",
        "TRAIN_BATCHES = (\n",
        "    ALL_DATA.skip(TEST_BATCH_SPLIT)\n",
        "    .apply(functools.partial(preprocess, is_train=True))\n",
        "    .prefetch(tf.data.AUTOTUNE)\n",
        "    .as_numpy_iterator()\n",
        ")\n",
        "print('TEST_BATCH shape and dtype')\n",
        "pprint.pprint(jax.tree.map(lambda x: (x.shape, x.dtype), TEST_BATCH))"
      ]
    },
    {
      "cell_type": "markdown",
      "metadata": {
        "id": "FqYCvuntxybO"
      },
      "source": [
        "## A Simple Streaming Speech Recognition Model\n",
        "\n",
        "To build a simple streaming speech recognition model, we need two pieces:\n",
        "*   A unidirectional encoder that only looks at the left context. As an example, we will use a stack of LSTMs.\n",
        "*   A decoder which is provided by `last.RecognitionLattice`. LAST allows us to train [GNAT](https://papers.neurips.cc/paper_files/paper/2022/file/1b4839ff1f843b6be059bd0e8437e975-Paper-Conference.pdf) models.\n",
        "\n",
        "To build the encoder, we use two building blocks already available in Flax:\n",
        "*   `nn.OptimizedLSTMCell` is an implementation of the [LSTM](https://colah.github.io/posts/2015-08-Understanding-LSTMs) cell. We will use two of its methods:\n",
        "    *   `initialize_carry()` returns the initial hidden state for the LSTM.\n",
        "    *   `__call__()` returns the new hidden state after consuming a single input.\n",
        "*   `nn.scan` is a transformation that turns something consuming a single input such as `nn.OptimizeLSTMCell.__call__()` to something looping through a sequence of inputs."
      ]
    },
    {
      "cell_type": "code",
      "execution_count": null,
      "metadata": {
        "id": "E9LOwfi88G-w"
      },
      "outputs": [],
      "source": [
        "class Encoder(nn.Module):\n",
        "  \"\"\"A stack of unidirectional LSTMs.\"\"\"\n",
        "\n",
        "  hidden_size: int\n",
        "  num_layers: int\n",
        "\n",
        "  @nn.compact\n",
        "  def __call__(self, xs):\n",
        "    \"\"\"Encodes the inputs.\n",
        "\n",
        "    Args:\n",
        "      xs: [batch_size, max_num_frames, feature_size] input sequences.\n",
        "\n",
        "    Returns:\n",
        "      [batch_size, max_num_frames, hidden_size] output sequences.\n",
        "    \"\"\"\n",
        "    # Flax allows randomness in initializing the hidden state. However LSTM's\n",
        "    # initial hidden state is deterministic, so we just need a dummy RNG here.\n",
        "    dummy_rng = jax.random.PRNGKey(0)\n",
        "    # A stack of num_layers LSTMs.\n",
        "    for _ in range(self.num_layers):\n",
        "      # nn.scan() when passed a class returns another class like object. Thus\n",
        "      # nn.scan(nn.OptimizedLSTMCell, ...)() constructs such a new instance of\n",
        "      # such a \"class\". Then, we invoke the __call__() method of this object\n",
        "      # by passing (init_carry, xs).\n",
        "      #\n",
        "      # The __call__() method of the nn.scan()-transformed \"class\" loops through\n",
        "      # the input whereas the original class takes one step.\n",
        "      cell = nn.scan(\n",
        "          nn.OptimizedLSTMCell,\n",
        "          variable_broadcast='params',\n",
        "          split_rngs={'params': False},\n",
        "          in_axes=1,\n",
        "          out_axes=1,\n",
        "      )(self.hidden_size)\n",
        "      init_carry = cell.initialize_carry(dummy_rng, xs[:, 0, :].shape)\n",
        "      _, xs = cell(init_carry, xs)\n",
        "    return xs"
      ]
    },
    {
      "cell_type": "markdown",
      "metadata": {
        "id": "W4R1aqoeCP7c"
      },
      "source": [
        "We directly create the decoder using `last.RecognitionLattice` inside the top level model.\n",
        "\n",
        "Our model provides two functionalities:\n",
        "-   `__call__()` takes in a batch and computes the loss value. The loss we will optimize is the log-loss, i.e. $E[-\\log P(Y|X; \\theta)]$ with $X$ being the input log-Mel-spectrogram and $Y$ be the reference label sequence.\n",
        "-   `decode()` decodes a batch, returning the hypothesis alignment labels. Because we are using the frame-dependent alignment lattice here, for a length $T$ encoder embedding sequence, there are exact $T$ alignment labels in the output, which can be either 0 (blank) or 1 to 26 (letters).\n",
        "\n",
        "To create a `last.RecognitionLattice`, we need to make a few decisions following [the modular framework in GNAT](https://papers.neurips.cc/paper_files/paper/2022/file/1b4839ff1f843b6be059bd0e8437e975-Paper-Conference.pdf):\n",
        "-   Context dependency: A context dependency is a finite state automaton encoding the lexical (non-blank) output context. For the example below, we use a full $n$-gram context with a `context_size` defaulting to 2.\n",
        "-   Alignment lattice: An alignment lattice determines how encoder frames and alignment labels align. We will use the frame-dependent alignment, i.e. each frame will correspond to exactly one label, which can be either blank or lexical.\n",
        "-   Weight function: A weight function determines the weight of producing some label as the next output given the encoder frame and the context state. We will use the joint weight function, similar to the joint network in an RNN Transducer."
      ]
    },
    {
      "cell_type": "code",
      "execution_count": null,
      "metadata": {
        "id": "DfOajmzWCQs5"
      },
      "outputs": [],
      "source": [
        "class Model(nn.Module):\n",
        "  # Whether to use a locally normalized model. We shall demonstrate the effect\n",
        "  # of this in the experiments below.\n",
        "  locally_normalize: bool = False\n",
        "  # Size for encoder LSTMs, the output context LSTM, the joint weight function.\n",
        "  hidden_size: int = 256\n",
        "  num_encoder_layers: int = 1\n",
        "  # As a convention, in LAST, we do not count the blank (0) label in the vocab.\n",
        "  vocab_size: int = 26\n",
        "  context_size: int = 2\n",
        "\n",
        "  def setup(self):\n",
        "    self.encoder = Encoder(\n",
        "        hidden_size=self.hidden_size, num_layers=self.num_encoder_layers\n",
        "    )\n",
        "\n",
        "    # Encodes context states using an LSTM.\n",
        "    def weight_fn_cacher_factory(context):\n",
        "      assert isinstance(context, last.contexts.FullNGram)\n",
        "      return last.weight_fns.SharedRNNCacher(\n",
        "          vocab_size=context.vocab_size,\n",
        "          context_size=context.context_size,\n",
        "          rnn_size=self.hidden_size,\n",
        "          rnn_embedding_size=self.hidden_size,\n",
        "      )\n",
        "\n",
        "    # Constructs the joint weight function.\n",
        "    def weight_fn_factory(context):\n",
        "      _, vocab_size = context.shape()\n",
        "      weight_fn = last.weight_fns.JointWeightFn(\n",
        "          vocab_size=vocab_size, hidden_size=self.hidden_size\n",
        "      )\n",
        "      if self.locally_normalize:\n",
        "        weight_fn = last.weight_fns.LocallyNormalizedWeightFn(weight_fn)\n",
        "      return weight_fn\n",
        "\n",
        "    # Putting all pieces together to build the RecoginitionLattice.\n",
        "    self.lattice = last.RecognitionLattice(\n",
        "        context=last.contexts.FullNGram(\n",
        "            vocab_size=self.vocab_size, context_size=self.context_size\n",
        "        ),\n",
        "        alignment=last.alignments.FrameDependent(),\n",
        "        weight_fn_cacher_factory=weight_fn_cacher_factory,\n",
        "        weight_fn_factory=weight_fn_factory,\n",
        "    )\n",
        "\n",
        "  def __call__(self, batch):\n",
        "    \"\"\"Scalar loss value.\"\"\"\n",
        "    features = self.encoder(batch['log_mel'])\n",
        "    # The __call__() method of RecognitionLattice returns [batch_size] per-\n",
        "    # example log-loss.\n",
        "    return self.lattice(\n",
        "        frames=features,\n",
        "        num_frames=batch['num_frames'],\n",
        "        labels=batch['labels'],\n",
        "        num_labels=batch['num_labels'],\n",
        "    ).mean()\n",
        "\n",
        "  def decode(self, batch):\n",
        "    \"\"\"Decodes a batch into [batch_size, max_num_frames] alignment labels.\"\"\"\n",
        "    features = self.encoder(batch['log_mel'])\n",
        "    return self.lattice.shortest_path(\n",
        "        frames=features, num_frames=batch['num_frames']\n",
        "    )[0]"
      ]
    },
    {
      "cell_type": "markdown",
      "metadata": {
        "id": "-eewbdi01MTw"
      },
      "source": [
        "To evaluate a trained model, we look at classification accuracy in addition to log-loss.\n",
        "Because the returned hypothesis alignment labels contain blank labels, we need to first remove them before comparing against the reference.\n",
        "In a more realistic speech recognition experiment, word error rate will typically be used instead."
      ]
    },
    {
      "cell_type": "code",
      "execution_count": null,
      "metadata": {
        "id": "byXKD-Mpxy_G"
      },
      "outputs": [],
      "source": [
        "def remove_blank_labels(labels: jnp.ndarray) -> jnp.ndarray:\n",
        "  \"\"\"Removes blank labels by pushing lexical labels forward.\"\"\"\n",
        "\n",
        "  def remove_one(labels):\n",
        "    padded_labels = jnp.pad(labels, [(1, 0)])\n",
        "    indices = jnp.where(padded_labels, size=labels.shape[0])\n",
        "    return padded_labels[indices]\n",
        "\n",
        "  # remove_one() handles a single [num_labels] sequence. jax.vmap() transforms\n",
        "  # that into a function that handles a [batch_size, num_labels] batch of\n",
        "  # sequences.\n",
        "  return jax.vmap(remove_one)(labels)\n",
        "\n",
        "\n",
        "def sequence_accuracy(\n",
        "    ref_labels: jnp.ndarray, hyp_labels: jnp.ndarray\n",
        ") -> jnp.ndarray:\n",
        "  \"\"\"Accuracy computed with exact match.\"\"\"\n",
        "  hyp_labels = remove_blank_labels(hyp_labels)\n",
        "  # Pad the sequences to the same shape for label-wise comparison.\n",
        "  pad_length = max(ref_labels.shape[-1], hyp_labels.shape[-1])\n",
        "  hyp_labels = jnp.pad(\n",
        "      hyp_labels,\n",
        "      [(0, 0), (0, pad_length - hyp_labels.shape[-1])],\n",
        "  )\n",
        "  ref_labels = jnp.pad(\n",
        "      ref_labels,\n",
        "      [(0, 0), (0, pad_length - ref_labels.shape[-1])],\n",
        "  )\n",
        "  exact_match = (hyp_labels == ref_labels).all(axis=-1)\n",
        "  return exact_match.mean()"
      ]
    },
    {
      "cell_type": "markdown",
      "metadata": {
        "id": "wJiuXMpg1yLh"
      },
      "source": [
        "The actual experiment loop is fairly straight-forward.\n",
        "1.  We use the AdamW optimizer.\n",
        "1.  We randomly initialize the model parameters using a fixed RNG seed.\n",
        "1.  We initialize the optimizer states according to the model parameters.\n",
        "1.  Then we repeatedly run the training and evaluation steps and report our progress.\n",
        "\n",
        "For more realistic applications, we often need to checkpoint our state (i.e. `params` and `opt_state` among other things).\n",
        "A good library for checkpointing in JAX is [Orbax](https://github.com/google/orbax)."
      ]
    },
    {
      "cell_type": "code",
      "execution_count": null,
      "metadata": {
        "id": "nM3Xqc6o-_Zc"
      },
      "outputs": [],
      "source": [
        "def train_and_eval(\n",
        "    test_batch,\n",
        "    train_batches,\n",
        "    model,\n",
        "    optimizer=optax.adamw(1e-3),\n",
        "    num_steps=1000,\n",
        "    num_steps_per_eval=100,\n",
        "):\n",
        "  # Initialize the model parameters using a fixed RNG seed. Flax linen Modules\n",
        "  # need to know the shape and dtype of its input to initialize the parameters,\n",
        "  # we thus pass it the test batch.\n",
        "  params = model.init(jax.random.PRNGKey(0), test_batch)\n",
        "  opt_state = optimizer.init(params)\n",
        "\n",
        "  # jax.jit compiles a JAX function to speed up execution.\n",
        "  # `donate_argnums=(0, 1)` means we know that the input `params` and\n",
        "  # `opt_state` won't be needed after calling `train_step`, so we donate them\n",
        "  # and allow JAX to use their memory for storing the output.\n",
        "  @functools.partial(jax.jit, donate_argnums=(0, 1))\n",
        "  def train_step(params, opt_state, batch):\n",
        "    # Compute the loss value and the gradients.\n",
        "    loss, grads = jax.value_and_grad(model.apply)(params, batch)\n",
        "    # Compute the actual updates based on the optimizer state and the gradients.\n",
        "    updates, opt_state = optimizer.update(grads, opt_state, params)\n",
        "    # Apply the updates.\n",
        "    params = optax.apply_updates(params, updates)\n",
        "    return params, opt_state, {'loss': loss}\n",
        "\n",
        "  # We are not passing additional arguments to jax.jit, so it can be used\n",
        "  # directly as a function decorator.\n",
        "  @jax.jit\n",
        "  def eval_step(params, batch):\n",
        "    # Test loss.\n",
        "    loss = model.apply(params, batch)\n",
        "    # Test accuracy.\n",
        "    hyp_labels = model.apply(params, batch, method=model.decode)\n",
        "    accuracy = sequence_accuracy(batch['labels'], hyp_labels)\n",
        "    return {'loss': loss, 'accuracy': accuracy}\n",
        "\n",
        "  @jax.jit\n",
        "  def jax_decode_step(params, batch):\n",
        "    return model.apply(params, batch, method=model.decode)\n",
        "\n",
        "  def decode_step(params, batch):\n",
        "    # Only decode the first example.\n",
        "    batch = jax.tree.map(lambda x: x[:1], batch)\n",
        "    hyp_labels = jax.device_get(jax_decode_step(params, batch))\n",
        "    ref_labels = batch['labels']\n",
        "\n",
        "    def text(labels):\n",
        "      return ''.join([chr(ord('a') - 1 + y) for y in labels[0] if y])\n",
        "\n",
        "    print(f'\\t\\tref: {text(ref_labels)!r}, hyp: {text(hyp_labels)!r}')\n",
        "\n",
        "\n",
        "  num_done_steps = 0\n",
        "  while num_done_steps < num_steps:\n",
        "    for _ in range(num_steps_per_eval):\n",
        "      params, opt_state, train_metrics = train_step(\n",
        "          params, opt_state, next(train_batches)\n",
        "      )\n",
        "    eval_metrics = eval_step(params, test_batch)\n",
        "    num_done_steps += num_steps_per_eval\n",
        "    print(f'step {num_done_steps}\\teval {eval_metrics}\\ttrain {train_metrics}')\n",
        "    decode_step(params, test_batch)"
      ]
    },
    {
      "cell_type": "markdown",
      "metadata": {
        "id": "SUxWBwZSGagv"
      },
      "source": [
        "We will train two models: one locally normalized and one globally normalized, to compare the effect of global normalization when the encoder only has left context.\n",
        "\n",
        "This cell takes about 6 minutes when using a nVidia T4 GPU.\n",
        "\n",
        "We can see that because the encoder only sees the left context, a globally normalized model is much more accurate (98.2% vs 94.7%) because it doesn't suffer from label bias.\n",
        "The [GNAT](https://papers.neurips.cc/paper_files/paper/2022/file/1b4839ff1f843b6be059bd0e8437e975-Paper-Conference.pdf) paper discusses this in more details."
      ]
    },
    {
      "cell_type": "code",
      "execution_count": null,
      "metadata": {
        "colab": {
          "background_save": true,
          "base_uri": "https://localhost:8080/"
        },
        "id": "zpfqNTuWOnbm",
        "outputId": "988fe30c-2ba8-4dcd-b277-02ff5ff3904a"
      },
      "outputs": [
        {
          "name": "stdout",
          "output_type": "stream",
          "text": [
            "Model(\n",
            "    # attributes\n",
            "    locally_normalize = True\n",
            "    hidden_size = 256\n",
            "    num_encoder_layers = 1\n",
            "    vocab_size = 26\n",
            "    context_size = 2\n",
            ")\n",
            "step 100\teval {'accuracy': Array(0.79795915, dtype=float32), 'loss': Array(0.54083705, dtype=float32)}\ttrain {'loss': Array(0.41135517, dtype=float32)}\n",
            "\t\tref: 'two', hyp: 'two'\n",
            "step 200\teval {'accuracy': Array(0.9204081, dtype=float32), 'loss': Array(0.23098816, dtype=float32)}\ttrain {'loss': Array(0.06813797, dtype=float32)}\n",
            "\t\tref: 'two', hyp: 'two'\n",
            "step 300\teval {'accuracy': Array(0.932653, dtype=float32), 'loss': Array(0.18907069, dtype=float32)}\ttrain {'loss': Array(0.02083038, dtype=float32)}\n",
            "\t\tref: 'two', hyp: 'two'\n",
            "step 400\teval {'accuracy': Array(0.93775505, dtype=float32), 'loss': Array(0.18539642, dtype=float32)}\ttrain {'loss': Array(0.0055441, dtype=float32)}\n",
            "\t\tref: 'two', hyp: 'two'\n",
            "step 500\teval {'accuracy': Array(0.9438775, dtype=float32), 'loss': Array(0.18252018, dtype=float32)}\ttrain {'loss': Array(0.00498704, dtype=float32)}\n",
            "\t\tref: 'two', hyp: 'two'\n",
            "step 600\teval {'accuracy': Array(0.9438775, dtype=float32), 'loss': Array(0.18631957, dtype=float32)}\ttrain {'loss': Array(0.00311758, dtype=float32)}\n",
            "\t\tref: 'two', hyp: 'two'\n",
            "step 700\teval {'accuracy': Array(0.93979585, dtype=float32), 'loss': Array(0.18803851, dtype=float32)}\ttrain {'loss': Array(0.00255223, dtype=float32)}\n",
            "\t\tref: 'two', hyp: 'two'\n",
            "step 800\teval {'accuracy': Array(0.9438775, dtype=float32), 'loss': Array(0.1883443, dtype=float32)}\ttrain {'loss': Array(0.00193316, dtype=float32)}\n",
            "\t\tref: 'two', hyp: 'two'\n",
            "step 900\teval {'accuracy': Array(0.9428571, dtype=float32), 'loss': Array(0.19192226, dtype=float32)}\ttrain {'loss': Array(0.00138025, dtype=float32)}\n",
            "\t\tref: 'two', hyp: 'two'\n",
            "step 1000\teval {'accuracy': Array(0.94693875, dtype=float32), 'loss': Array(0.19145903, dtype=float32)}\ttrain {'loss': Array(0.00110081, dtype=float32)}\n",
            "\t\tref: 'two', hyp: 'two'\n",
            "\n",
            "Model(\n",
            "    # attributes\n",
            "    locally_normalize = False\n",
            "    hidden_size = 256\n",
            "    num_encoder_layers = 1\n",
            "    vocab_size = 26\n",
            "    context_size = 2\n",
            ")\n",
            "step 100\teval {'accuracy': Array(0.7540816, dtype=float32), 'loss': Array(0.84587485, dtype=float32)}\ttrain {'loss': Array(0.63470995, dtype=float32)}\n",
            "\t\tref: 'two', hyp: 'two'\n",
            "step 200\teval {'accuracy': Array(0.97244895, dtype=float32), 'loss': Array(0.13660301, dtype=float32)}\ttrain {'loss': Array(0.06669958, dtype=float32)}\n",
            "\t\tref: 'two', hyp: 'two'\n",
            "step 300\teval {'accuracy': Array(0.977551, dtype=float32), 'loss': Array(0.10436755, dtype=float32)}\ttrain {'loss': Array(0.03208806, dtype=float32)}\n",
            "\t\tref: 'two', hyp: 'two'\n",
            "step 400\teval {'accuracy': Array(0.9795918, dtype=float32), 'loss': Array(0.08728393, dtype=float32)}\ttrain {'loss': Array(0.01103488, dtype=float32)}\n",
            "\t\tref: 'two', hyp: 'two'\n",
            "step 500\teval {'accuracy': Array(0.9795918, dtype=float32), 'loss': Array(0.07841016, dtype=float32)}\ttrain {'loss': Array(0.00904545, dtype=float32)}\n",
            "\t\tref: 'two', hyp: 'two'\n",
            "step 600\teval {'accuracy': Array(0.9795918, dtype=float32), 'loss': Array(0.0768528, dtype=float32)}\ttrain {'loss': Array(0.0060733, dtype=float32)}\n",
            "\t\tref: 'two', hyp: 'two'\n",
            "step 700\teval {'accuracy': Array(0.9795918, dtype=float32), 'loss': Array(0.07705322, dtype=float32)}\ttrain {'loss': Array(0.00424796, dtype=float32)}\n",
            "\t\tref: 'two', hyp: 'two'\n",
            "step 800\teval {'accuracy': Array(0.9806122, dtype=float32), 'loss': Array(0.07976308, dtype=float32)}\ttrain {'loss': Array(0.00283802, dtype=float32)}\n",
            "\t\tref: 'two', hyp: 'two'\n",
            "step 900\teval {'accuracy': Array(0.9806122, dtype=float32), 'loss': Array(0.078577, dtype=float32)}\ttrain {'loss': Array(0.00229293, dtype=float32)}\n",
            "\t\tref: 'two', hyp: 'two'\n",
            "step 1000\teval {'accuracy': Array(0.9816326, dtype=float32), 'loss': Array(0.08134769, dtype=float32)}\ttrain {'loss': Array(0.00180739, dtype=float32)}\n",
            "\t\tref: 'two', hyp: 'two'\n",
            "\n"
          ]
        }
      ],
      "source": [
        "for locally_normalize in [True, False]:\n",
        "  model = Model(locally_normalize=locally_normalize)\n",
        "  print(model)\n",
        "  train_and_eval(TEST_BATCH, TRAIN_BATCHES, model)\n",
        "  print(flush=True)"
      ]
    },
    {
      "cell_type": "markdown",
      "metadata": {
        "id": "HnYpZdRx2Ltk"
      },
      "source": [
        "## Next Steps\n",
        "\n",
        "If you are new to JAX, we recommend checking out the following guides,\n",
        "*   [JAX Quickstart](https://jax.readthedocs.io/en/latest/notebooks/quickstart.html)\n",
        "*   [Flax Basics](https://flax-linen.readthedocs.io/en/latest/guides/flax_fundamentals/flax_basics.html)\n",
        "*   [Optax Getting Started](https://optax.readthedocs.io/en/latest/getting_started.html)\n",
        "*   [Checkpointing with Orbax](https://orbax.readthedocs.io/en/latest/guides/checkpoint/orbax_checkpoint_101.html)\n",
        "\n",
        "The complete LAST documentation is available on https://last-asr.readthedocs.io.\n",
        "\n",
        "Finally, please don't hesitate to [ask questions](https://github.com/google-research/last/issues/new) whenever you run into problems with this notebook or LAST in general."
      ]
    }
  ],
  "metadata": {
    "accelerator": "GPU",
    "colab": {
      "gpuType": "T4",
      "provenance": []
    },
    "gpuClass": "standard",
    "kernelspec": {
      "display_name": "Python 3",
      "name": "python3"
    },
    "language_info": {
      "name": "python"
    }
  },
  "nbformat": 4,
  "nbformat_minor": 0
}